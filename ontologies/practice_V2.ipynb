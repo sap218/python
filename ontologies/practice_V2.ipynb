{
 "cells": [
  {
   "cell_type": "code",
   "execution_count": 37,
   "metadata": {},
   "outputs": [],
   "source": [
    "# https://media.readthedocs.org/pdf/owlready2/latest/owlready2.pdf\n",
    "from owlready2 import *"
   ]
  },
  {
   "cell_type": "code",
   "execution_count": 41,
   "metadata": {},
   "outputs": [
    {
     "data": {
      "text/plain": [
       "get_ontology(\"/home/samantha/PhD/ONT/ont.owl#\")"
      ]
     },
     "execution_count": 41,
     "metadata": {},
     "output_type": "execute_result"
    }
   ],
   "source": [
    "onto = get_ontology(\"/home/samantha/PhD/ONT/ont_v2.owl\")\n",
    "onto.load()"
   ]
  },
  {
   "cell_type": "code",
   "execution_count": 42,
   "metadata": {},
   "outputs": [],
   "source": [
    "with onto:\n",
    "    class Continent(Thing):\n",
    "        pass\n",
    "    class Country(Continent):\n",
    "        pass\n",
    "    class City(Country):\n",
    "        pass  \n",
    "    \n",
    "    class Population(Thing):\n",
    "        pass\n",
    "    \n",
    "    class Animal(Thing):\n",
    "        pass\n",
    "    \n",
    "    class Human(Animal):\n",
    "        pass\n",
    "    class Profession(Thing):\n",
    "        pass    \n",
    "    \n",
    "    class Cat(Animal):\n",
    "        pass\n",
    "    class Dog(Animal):\n",
    "        pass\n",
    "    \n",
    "    class Breed(Cat):\n",
    "        pass\n",
    "    class Breed(Dog):\n",
    "        pass\n",
    "    \n",
    "\n",
    "with onto:\n",
    "    class has_volume(City >> Population):\n",
    "        pass\n",
    "    class has_job(Human >> Profession):\n",
    "        pass\n",
    "    class comes_from(Human >> Country):\n",
    "        pass\n",
    "    class lives_in(Human >> City):\n",
    "        pass\n",
    "    class has_breed(Cat >> Breed):\n",
    "        pass\n",
    "    class has_breed(Dog >> Breed):\n",
    "        pass\n",
    "    class has_pet(Human >> Breed):\n",
    "        pass\n",
    "    class native(Breed >> Country):\n",
    "        pass"
   ]
  },
  {
   "cell_type": "code",
   "execution_count": 43,
   "metadata": {},
   "outputs": [],
   "source": [
    "onto.save()"
   ]
  },
  {
   "cell_type": "code",
   "execution_count": null,
   "metadata": {},
   "outputs": [],
   "source": []
  }
 ],
 "metadata": {
  "kernelspec": {
   "display_name": "Python 3",
   "language": "python",
   "name": "python3"
  },
  "language_info": {
   "codemirror_mode": {
    "name": "ipython",
    "version": 3
   },
   "file_extension": ".py",
   "mimetype": "text/x-python",
   "name": "python",
   "nbconvert_exporter": "python",
   "pygments_lexer": "ipython3",
   "version": "3.6.6"
  }
 },
 "nbformat": 4,
 "nbformat_minor": 2
}
