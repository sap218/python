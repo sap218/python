{
 "cells": [
  {
   "cell_type": "code",
   "execution_count": 82,
   "metadata": {},
   "outputs": [],
   "source": [
    "# https://media.readthedocs.org/pdf/owlready2/latest/owlready2.pdf\n",
    "\n",
    "from owlready2 import *"
   ]
  },
  {
   "cell_type": "code",
   "execution_count": 4,
   "metadata": {},
   "outputs": [
    {
     "data": {
      "text/plain": [
       "get_ontology(\"ont.owl#\")"
      ]
     },
     "execution_count": 4,
     "metadata": {},
     "output_type": "execute_result"
    }
   ],
   "source": [
    "onto_path.append(\"/home/samantha/PhD/ONT\")\n",
    "onto = get_ontology(\"ont.owl\")\n",
    "onto.load()"
   ]
  },
  {
   "cell_type": "markdown",
   "metadata": {},
   "source": [
    "# Classes"
   ]
  },
  {
   "cell_type": "code",
   "execution_count": 26,
   "metadata": {},
   "outputs": [
    {
     "data": {
      "text/plain": [
       "{ont.Continent, ont.Country, owl.Thing}"
      ]
     },
     "execution_count": 26,
     "metadata": {},
     "output_type": "execute_result"
    }
   ],
   "source": [
    "class Continent(Thing):\n",
    "    namespace = onto\n",
    "#print(Continent.iri) # to obtain the full IRI of the class\n",
    "    \n",
    "class Country(Continent):\n",
    "    pass\n",
    "\n",
    "Continent.descendants() # printing subclasses\n",
    "Country.ancestors() # list all ancestors\n",
    "#print(Country.is_a) # prints only above class"
   ]
  },
  {
   "cell_type": "markdown",
   "metadata": {},
   "source": [
    "## Relations"
   ]
  },
  {
   "cell_type": "code",
   "execution_count": 81,
   "metadata": {},
   "outputs": [
    {
     "data": {
      "text/plain": [
       "'        \\nwith onto:\\n    class has_favourite_toy(Pet >> Item):\\n        pass\\n'"
      ]
     },
     "execution_count": 81,
     "metadata": {},
     "output_type": "execute_result"
    }
   ],
   "source": [
    "with onto:\n",
    "    class Pet(Thing):\n",
    "        pass\n",
    "    class Item(Thing):\n",
    "        pass\n",
    "    class has_favourite_toy(ObjectProperty):\n",
    "        domain = [Pet]\n",
    "        range = [Item]\n",
    "'''        \n",
    "with onto:\n",
    "    class has_favourite_toy(Pet >> Item):\n",
    "        pass\n",
    "'''"
   ]
  },
  {
   "cell_type": "code",
   "execution_count": 91,
   "metadata": {},
   "outputs": [
    {
     "name": "stdout",
     "output_type": "stream",
     "text": [
      "[ont.Bee, ont.Ball] [ont.Pig]\n"
     ]
    },
    {
     "data": {
      "text/plain": [
       "AllDisjoint([ont.Daisy, ont.Darcy])"
      ]
     },
     "execution_count": 91,
     "metadata": {},
     "output_type": "execute_result"
    }
   ],
   "source": [
    "my_pet = Pet(\"Daisy\")\n",
    "their_pet = Pet(\"Darcy\")\n",
    "her_toy = Item(\"Bee\")\n",
    "their_toy = Item(\"Pig\")\n",
    "worst_and_fave_toy = Item(\"Ball\")\n",
    "my_pet.has_favourite_toy = [her_toy]\n",
    "my_pet.has_favourite_toy.append(worst_and_fave_toy)\n",
    "their_pet.has_favourite_toy = [their_toy]\n",
    "\n",
    "print(my_pet.has_favourite_toy, their_pet.has_favourite_toy)\n",
    "\n",
    "AllDifferent([my_pet, their_pet])"
   ]
  },
  {
   "cell_type": "markdown",
   "metadata": {},
   "source": [
    "#### Inverse  Property"
   ]
  },
  {
   "cell_type": "code",
   "execution_count": 73,
   "metadata": {},
   "outputs": [
    {
     "name": "stdout",
     "output_type": "stream",
     "text": [
      "[ont.Daisy]\n"
     ]
    }
   ],
   "source": [
    "with onto:\n",
    "    class belongs_to(ObjectProperty):\n",
    "        domain = [Item]\n",
    "        range = [Pet]\n",
    "        inverse_property = has_favourite_toy\n",
    "        \n",
    "print(her_toy.belongs_to)"
   ]
  },
  {
   "cell_type": "code",
   "execution_count": 72,
   "metadata": {},
   "outputs": [
    {
     "name": "stdout",
     "output_type": "stream",
     "text": [
      "ont.Daisy\n",
      "ont.Darcy\n",
      "ont.Bee\n",
      "ont.Pig\n",
      "ont.Ball\n"
     ]
    }
   ],
   "source": [
    "for i in Pet.instances(): \n",
    "    print(i)\n",
    "for i in Item.instances(): \n",
    "    print(i)\n",
    "#destroy_entity(worst_and_fave_toy)"
   ]
  },
  {
   "cell_type": "code",
   "execution_count": 61,
   "metadata": {},
   "outputs": [
    {
     "name": "stdout",
     "output_type": "stream",
     "text": [
      "{ont.Name, ont.Pet, ont.Country, ont.Person, owl.Thing, ont.FirstName, ont.Continent, ont.LastName, ont.Item}\n"
     ]
    }
   ],
   "source": [
    "print(Thing.descendants())"
   ]
  },
  {
   "cell_type": "markdown",
   "metadata": {},
   "source": [
    "## Subclasses"
   ]
  },
  {
   "cell_type": "code",
   "execution_count": 29,
   "metadata": {},
   "outputs": [
    {
     "data": {
      "text/plain": [
       "{ont.Age, ont.FirstName, ont.LastName, ont.Name, ont.Person}"
      ]
     },
     "execution_count": 29,
     "metadata": {},
     "output_type": "execute_result"
    }
   ],
   "source": [
    "class Person(Thing):\n",
    "    namespace = onto\n",
    "\n",
    "class Age(Person):\n",
    "    pass\n",
    "\n",
    "class Name(Person):\n",
    "    pass\n",
    "class FirstName(Name):\n",
    "    pass\n",
    "class LastName(Name):\n",
    "    pass"
   ]
  },
  {
   "cell_type": "code",
   "execution_count": 74,
   "metadata": {},
   "outputs": [],
   "source": [
    "with onto:\n",
    "    class has_age(ObjectProperty):\n",
    "        domain = [Person]\n",
    "        range = [Age]"
   ]
  },
  {
   "cell_type": "code",
   "execution_count": 53,
   "metadata": {},
   "outputs": [
    {
     "data": {
      "text/plain": [
       "{ont.FirstName, ont.LastName, ont.Name, ont.Person}"
      ]
     },
     "execution_count": 53,
     "metadata": {},
     "output_type": "execute_result"
    }
   ],
   "source": [
    "Person.descendants()"
   ]
  },
  {
   "cell_type": "code",
   "execution_count": 79,
   "metadata": {},
   "outputs": [
    {
     "name": "stdout",
     "output_type": "stream",
     "text": [
      "[ont.22]\n",
      "[ont.Sam] [ont.Pendle]\n"
     ]
    }
   ],
   "source": [
    "with onto:\n",
    "    class has_firstname(Person >> FirstName):\n",
    "        pass\n",
    "    class has_surname(Person >> LastName):\n",
    "        pass\n",
    "    class has_age(Person >> Age):\n",
    "        pass\n",
    "scpfn = FirstName(\"Sam\")\n",
    "scpln = LastName(\"Pendle\")\n",
    "ages = Age(\"22\")\n",
    "individual.has_firstname = [scpfn]\n",
    "individual.has_surname = [scpln]\n",
    "individual.has_age = [ages]\n",
    "print(individual.has_age)\n",
    "print(individual.has_firstname, individual.has_surname)"
   ]
  },
  {
   "cell_type": "markdown",
   "metadata": {},
   "source": [
    "# Individuals"
   ]
  },
  {
   "cell_type": "code",
   "execution_count": 35,
   "metadata": {},
   "outputs": [
    {
     "name": "stdout",
     "output_type": "stream",
     "text": [
      "ont.ID218\n",
      "ont.owl#ID218\n",
      "ID218\n"
     ]
    }
   ],
   "source": [
    "individual = Person(\"ID218\")\n",
    "print(individual)\n",
    "print(individual.iri)\n",
    "print(individual.name)"
   ]
  },
  {
   "cell_type": "code",
   "execution_count": 36,
   "metadata": {},
   "outputs": [
    {
     "name": "stdout",
     "output_type": "stream",
     "text": [
      "person1\n"
     ]
    }
   ],
   "source": [
    "random_person = Person()\n",
    "print(random_person.name)"
   ]
  },
  {
   "cell_type": "code",
   "execution_count": 42,
   "metadata": {},
   "outputs": [],
   "source": [
    "country_person = Person(\"Madrid\")\n",
    "country_person.is_a.append(Country)"
   ]
  },
  {
   "cell_type": "code",
   "execution_count": 51,
   "metadata": {},
   "outputs": [
    {
     "name": "stdout",
     "output_type": "stream",
     "text": [
      "ont.Madrid\n"
     ]
    }
   ],
   "source": [
    "for i in Person.instances(): \n",
    "    print(i)\n",
    "for i in Country.instances(): \n",
    "    print(i)"
   ]
  },
  {
   "cell_type": "markdown",
   "metadata": {},
   "source": [
    "### Removing from Ontology "
   ]
  },
  {
   "cell_type": "code",
   "execution_count": 52,
   "metadata": {},
   "outputs": [],
   "source": [
    "destroy_entity(random_person)\n",
    "destroy_entity(Age)"
   ]
  },
  {
   "cell_type": "code",
   "execution_count": null,
   "metadata": {},
   "outputs": [],
   "source": []
  },
  {
   "cell_type": "markdown",
   "metadata": {},
   "source": [
    "## Type of Relations"
   ]
  },
  {
   "cell_type": "code",
   "execution_count": null,
   "metadata": {},
   "outputs": [],
   "source": [
    "print(onto.part_of.get_relations())\n",
    "print(onto.has_favourite_toy.get_relations())"
   ]
  },
  {
   "cell_type": "code",
   "execution_count": null,
   "metadata": {},
   "outputs": [],
   "source": []
  },
  {
   "cell_type": "code",
   "execution_count": 96,
   "metadata": {},
   "outputs": [
    {
     "name": "stdout",
     "output_type": "stream",
     "text": [
      "[ont.heart]\n",
      "[ont.abdomen, ont.heart]\n"
     ]
    }
   ],
   "source": [
    "with onto:\n",
    "    class BodyPart(Person): \n",
    "        pass\n",
    "    class part_of(BodyPart >> BodyPart, TransitiveProperty): \n",
    "        pass\n",
    "    abdomen = BodyPart(\"abdomen\")\n",
    "    heart = BodyPart(\"heart\", part_of = [abdomen])\n",
    "    left_ventricular = BodyPart(\"left_ventricular\", part_of = [heart])\n",
    "    kidney = BodyPart(\"kidney\", part_of = [abdomen])\n",
    "print(left_ventricular.part_of)\n",
    "print(list(left_ventricular.part_of.indirect()))"
   ]
  },
  {
   "cell_type": "markdown",
   "metadata": {},
   "source": [
    "#### Comments"
   ]
  },
  {
   "cell_type": "code",
   "execution_count": 97,
   "metadata": {},
   "outputs": [
    {
     "name": "stdout",
     "output_type": "stream",
     "text": [
      "['A first comment', 'A second comment', 'A third comment']\n"
     ]
    }
   ],
   "source": [
    "BodyPart.comment = [\"A first comment\", \"A second comment\"]\n",
    "BodyPart.comment.append(\"A third comment\")\n",
    "print(BodyPart.comment)\n",
    "BodyPart.comment.remove(\"A second comment\")\n",
    "BodyPart.comment = [] # remove all"
   ]
  },
  {
   "cell_type": "code",
   "execution_count": null,
   "metadata": {},
   "outputs": [],
   "source": [
    "# 33/40 | 1.9.4"
   ]
  },
  {
   "cell_type": "code",
   "execution_count": null,
   "metadata": {},
   "outputs": [],
   "source": []
  },
  {
   "cell_type": "markdown",
   "metadata": {},
   "source": [
    "# Completion"
   ]
  },
  {
   "cell_type": "code",
   "execution_count": null,
   "metadata": {},
   "outputs": [],
   "source": [
    "#close_world(Thing) # onto?"
   ]
  },
  {
   "cell_type": "code",
   "execution_count": 98,
   "metadata": {},
   "outputs": [],
   "source": [
    "onto.save()"
   ]
  },
  {
   "cell_type": "code",
   "execution_count": null,
   "metadata": {},
   "outputs": [],
   "source": []
  }
 ],
 "metadata": {
  "kernelspec": {
   "display_name": "Python 3",
   "language": "python",
   "name": "python3"
  },
  "language_info": {
   "codemirror_mode": {
    "name": "ipython",
    "version": 3
   },
   "file_extension": ".py",
   "mimetype": "text/x-python",
   "name": "python",
   "nbconvert_exporter": "python",
   "pygments_lexer": "ipython3",
   "version": "3.6.6"
  }
 },
 "nbformat": 4,
 "nbformat_minor": 2
}
